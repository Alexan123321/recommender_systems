{
 "cells": [
  {
   "attachments": {},
   "cell_type": "markdown",
   "metadata": {},
   "source": [
    "# Recommender systems workbook\n",
    "This miniproject is realized in the course \"Decision Support Systems\" at Aarhus University in the Spring semester of 2023 by Alexander Stæhr Johansen, Henrik Tambo Buhl & Liulihan Kuang from team 3.\n",
    "\n",
    "The purpose of this workbook is to exemplify basic implementations of recommendation systems: a content-based, one using collaborative-filtering and a hybrid of the two."
   ]
  },
  {
   "attachments": {},
   "cell_type": "markdown",
   "metadata": {},
   "source": [
    "## Background"
   ]
  },
  {
   "cell_type": "code",
   "execution_count": 2,
   "metadata": {},
   "outputs": [],
   "source": [
    "# Import libraries\n",
    "import pandas as pd\n",
    "from sklearn.feature_extraction.text import TfidfVectorizer\n",
    "from sklearn.metrics.pairwise import cosine_similarity\n",
    "\n",
    "# Load the movielens Small dataset from local storage\n",
    "movies = pd.read_csv('movies.csv')\n",
    "ratings = pd.read_csv('ratings.csv')"
   ]
  },
  {
   "attachments": {},
   "cell_type": "markdown",
   "metadata": {},
   "source": [
    "## Content-based recommender system"
   ]
  },
  {
   "cell_type": "code",
   "execution_count": 3,
   "metadata": {},
   "outputs": [],
   "source": [
    "def content_based_recommender(user_id, cosine_sim, df_movies, df_ratings, n=10):\n",
    "    user_ratings = df_ratings[df_ratings['userId'] == user_id]\n",
    "    user_ratings = user_ratings[['movieId', 'rating']]\n",
    "\n",
    "    # Compute the mean rating for the user\n",
    "    mean_user_rating = user_ratings['rating'].mean()\n",
    "\n",
    "    # Find the indices of the movies rated by the user\n",
    "    movie_indices = user_ratings['movieId'].apply(lambda x: df_movies[df_movies['movieId'] == x].index[0])\n",
    "\n",
    "    # Calculate the cosine similarity scores between the user's movies and all other movies\n",
    "    sim_scores = cosine_sim[movie_indices].mean(axis=0)\n",
    "\n",
    "    # Sort the movies based on the similarity scores\n",
    "    sim_scores = sorted(list(enumerate(sim_scores)), key=lambda x: x[1], reverse=True)\n",
    "\n",
    "    # Get the top N most similar movies (excluding the movies rated by the user)\n",
    "    sim_scores = [score for score in sim_scores if score[0] not in movie_indices][:n]\n",
    "    recommended_movie_indices = [i[0] for i in sim_scores]\n",
    "\n",
    "    # Calculate the predicted rating for each recommended movie\n",
    "    predicted_ratings = [mean_user_rating] * n\n",
    "\n",
    "    # Return the recommended movieIds and their predicted ratings\n",
    "    recommended_movies = df_movies.iloc[recommended_movie_indices]['movieId'].tolist()\n",
    "    return pd.DataFrame({'movieId': recommended_movies, 'predicted_rating': predicted_ratings})"
   ]
  },
  {
   "attachments": {},
   "cell_type": "markdown",
   "metadata": {},
   "source": [
    "### Example usage of content-based recommender system"
   ]
  },
  {
   "attachments": {},
   "cell_type": "markdown",
   "metadata": {},
   "source": [
    "To exemplify the usage, one can execute the block below."
   ]
  },
  {
   "cell_type": "code",
   "execution_count": 3,
   "metadata": {},
   "outputs": [
    {
     "name": "stdout",
     "output_type": "stream",
     "text": [
      "   movieId  predicted_rating\n",
      "0   117646          4.366379\n",
      "1    55116          4.366379\n",
      "2     5657          4.366379\n",
      "3     6990          4.366379\n",
      "4   164226          4.366379\n"
     ]
    }
   ],
   "source": [
    "# Compute the TF-IDF vectors for movie genres\n",
    "#vectorizer = TfidfVectorizer()\n",
    "#movie_genres = movies['genres'].fillna('').str.lower().str.replace('|', ' ')\n",
    "#tfidf_matrix = vectorizer.fit_transform(movie_genres)\n",
    "\n",
    "# Compute the cosine similarity between movies based on their genre vectors\n",
    "#cosine_sim = cosine_similarity(tfidf_matrix)\n",
    "\n",
    "# Example usage: get the top 5 recommended movies and their predicted ratings for user 1\n",
    "#content_based_recommendations = content_based_recommender(1, cosine_sim, movies, ratings, n=5)\n",
    "#print(content_based_recommendations[['movieId', 'predicted_rating']])\n"
   ]
  },
  {
   "attachments": {},
   "cell_type": "markdown",
   "metadata": {},
   "source": [
    "## Collaborative-filtering-based recommender system"
   ]
  },
  {
   "cell_type": "code",
   "execution_count": 4,
   "metadata": {},
   "outputs": [],
   "source": [
    "def collaborative_filtering_recommender(user_id, cosine_sim, user_item_matrix, movies, n=10):\n",
    "    # Convert the user_id to the corresponding index in user_item_matrix\n",
    "    idx = user_item_matrix.index.get_loc(user_id)\n",
    "    \n",
    "    sim_scores = list(enumerate(cosine_sim[idx]))\n",
    "    sim_scores = sorted(sim_scores, key=lambda x: x[1], reverse=True)\n",
    "    sim_scores = sim_scores[1:n+1]\n",
    "    similar_users_indices = [i[0] for i in sim_scores]\n",
    "\n",
    "    # Convert the similar users' indices back to user IDs\n",
    "    similar_users = user_item_matrix.iloc[similar_users_indices].index.tolist()\n",
    "\n",
    "    movies_rated = user_item_matrix.loc[similar_users].sum().sort_values(ascending=False)\n",
    "    movies_rated = movies_rated.index.values.tolist()\n",
    "\n",
    "    movies_seen = user_item_matrix.loc[user_id]\n",
    "    movies_seen = movies_seen[movies_seen > 0].index.values.tolist()\n",
    "    movies_to_recommend = [m for m in movies_rated if m not in movies_seen][:n]\n",
    "\n",
    "    recommended_movie_ids = movies.loc[movies['movieId'].isin(movies_to_recommend)]['movieId'].tolist()\n",
    "\n",
    "    # Calculate the average rating for the recommended movies\n",
    "    recommended_movie_ratings = user_item_matrix.loc[similar_users][recommended_movie_ids].mean().tolist()\n",
    "\n",
    "    # Return the recommended movie IDs and their predicted ratings\n",
    "    return pd.DataFrame({'movieId': recommended_movie_ids, 'predicted_rating': recommended_movie_ratings})"
   ]
  },
  {
   "attachments": {},
   "cell_type": "markdown",
   "metadata": {},
   "source": [
    "### Example usage of the collaborative-filtering-based recommender system"
   ]
  },
  {
   "attachments": {},
   "cell_type": "markdown",
   "metadata": {},
   "source": [
    "To exemplify the usage, one can execute the block below."
   ]
  },
  {
   "cell_type": "code",
   "execution_count": 5,
   "metadata": {},
   "outputs": [
    {
     "name": "stdout",
     "output_type": "stream",
     "text": [
      "   movieId  predicted_rating\n",
      "0      541               4.0\n",
      "1      589               4.0\n",
      "2     1036               4.0\n",
      "3     1200               4.8\n",
      "4     1610               4.3\n"
     ]
    }
   ],
   "source": [
    "# Pivot the ratings dataframe to create a user-item matrix\n",
    "#user_item_matrix = ratings.pivot(index='userId', columns='movieId', values='rating')\n",
    "#user_item_matrix = user_item_matrix.fillna(0)\n",
    "\n",
    "# Compute the cosine similarity between users based on their ratings\n",
    "#cosine_sim = cosine_similarity(user_item_matrix)\n",
    "\n",
    "# Example usage: get the top 5 recommended movies and their predicted ratings for user 1\n",
    "#collaborative_filtering_recommendations = collaborative_filtering_recommender(1, cosine_sim, user_item_matrix, movies, n=5)\n",
    "#print(collaborative_filtering_recommendations[['movieId', 'predicted_rating']])"
   ]
  },
  {
   "attachments": {},
   "cell_type": "markdown",
   "metadata": {},
   "source": [
    "## Content-based and collaborative-filtering-based recommender system (hybrid)"
   ]
  },
  {
   "cell_type": "code",
   "execution_count": 5,
   "metadata": {},
   "outputs": [],
   "source": [
    "def hybrid_recommender(user_id, cosine_sim_content, cosine_sim_cf, user_item_matrix, movies, ratings, n=10, alpha=0.5, num_individual_recommendations=100):\n",
    "    # Get the top recommended movies and their predicted ratings from content-based and collaborative filtering recommenders\n",
    "    content_based_recommendations = content_based_recommender(user_id, cosine_sim_content, movies, ratings, n=num_individual_recommendations)\n",
    "    collaborative_filtering_recommendations = collaborative_filtering_recommender(user_id, cosine_sim_cf, user_item_matrix, movies, n=num_individual_recommendations)\n",
    "\n",
    "    # Merge the two recommendation sets and compute the hybrid score\n",
    "    combined_recommendations = content_based_recommendations.merge(collaborative_filtering_recommendations, on='movieId', how='inner')\n",
    "    combined_recommendations['hybrid_score'] = alpha * combined_recommendations['predicted_rating_x'] + (1 - alpha) * combined_recommendations['predicted_rating_y']\n",
    "\n",
    "    # Sort the recommendations based on the hybrid score and return the top N recommended movies\n",
    "    combined_recommendations = combined_recommendations.sort_values(by='hybrid_score', ascending=False).head(n)\n",
    "    return combined_recommendations[['movieId', 'hybrid_score']].rename(columns={'hybrid_score': 'predicted_rating'})"
   ]
  },
  {
   "attachments": {},
   "cell_type": "markdown",
   "metadata": {},
   "source": [
    "### Example usage of the hybrid recommender system"
   ]
  },
  {
   "attachments": {},
   "cell_type": "markdown",
   "metadata": {},
   "source": [
    "To exemplify the usage, one can execute the block below."
   ]
  },
  {
   "cell_type": "code",
   "execution_count": 7,
   "metadata": {},
   "outputs": [
    {
     "name": "stdout",
     "output_type": "stream",
     "text": [
      "   movieId  predicted_rating\n",
      "1     6539          4.144301\n",
      "2     2683          3.941962\n",
      "0      380          3.901940\n"
     ]
    }
   ],
   "source": [
    "# Set the parameters for the hybrid recommender\n",
    "#n = 100  # number of recommendations to generate\n",
    "#alpha = 0.5  # weight parameter for combining the content-based and collaborative filtering recommendations\n",
    "#num_individual_recommendations = 100  # number of individual recommendations to generate from each model\n",
    "\n",
    "# Compute the necessary similarity matrices and input matrices\n",
    "#vectorizer = TfidfVectorizer()\n",
    "#movie_genres = movies['genres'].fillna('').str.lower().str.replace('|', ' ')\n",
    "#tfidf_matrix = vectorizer.fit_transform(movie_genres)\n",
    "\n",
    "# Compute the cosine similarity between movies based on their genre vectors (for content-based filtering)\n",
    "#cosine_sim_content = cosine_similarity(tfidf_matrix)\n",
    "\n",
    "# Compute the user-item matrix using pivoting\n",
    "#user_item_matrix = ratings.pivot(index='userId', columns='movieId', values='rating')\n",
    "#user_item_matrix = user_item_matrix.fillna(0)\n",
    "#cosine_sim_cf = cosine_similarity(user_item_matrix)\n",
    "#user_item_matrix = ratings.pivot(index='userId', columns='movieId', values='rating')\n",
    "\n",
    "# Generate the hybrid recommendations for the target user\n",
    "#hybrid_recommendations = hybrid_recommender(1, cosine_sim_content, cosine_sim_cf, user_item_matrix, movies, ratings, n=n, alpha=alpha, num_individual_recommendations=num_individual_recommendations)\n",
    "\n",
    "# Print the top recommended movies and their predicted ratings\n",
    "#print(hybrid_recommendations[['movieId', 'predicted_rating']])"
   ]
  },
  {
   "attachments": {},
   "cell_type": "markdown",
   "metadata": {},
   "source": [
    "## Model evaluation"
   ]
  },
  {
   "cell_type": "code",
   "execution_count": 6,
   "metadata": {},
   "outputs": [],
   "source": [
    "import numpy as np\n",
    "from sklearn.metrics import mean_absolute_error, mean_squared_error\n",
    "from sklearn.model_selection import train_test_split\n",
    "\n",
    "# Split the dataset into training and testing sets\n",
    "ratings_train, ratings_test = train_test_split(ratings, test_size=0.2, random_state=42)\n",
    "\n",
    "# Prepare the user-item matrix for collaborative filtering\n",
    "user_item_matrix_train = ratings_train.pivot(index='userId', columns='movieId', values='rating')\n",
    "user_item_matrix_train = user_item_matrix_train.fillna(0)\n",
    "\n",
    "# Compute the cosine similarity between users based on their ratings (for collaborative filtering)\n",
    "cosine_sim_collab_train = cosine_similarity(user_item_matrix_train)\n",
    "\n",
    "# Compute the TF-IDF vectors for movie genres (for content-based filtering)\n",
    "vectorizer = TfidfVectorizer()\n",
    "movie_genres = movies['genres'].fillna('').str.lower().str.replace('|', ' ')\n",
    "tfidf_matrix = vectorizer.fit_transform(movie_genres)\n",
    "\n",
    "# Compute the cosine similarity between movies based on their genre vectors (for content-based filtering)\n",
    "cosine_sim_content_train = cosine_similarity(tfidf_matrix)\n",
    "\n",
    "# Define the evaluation metrics\n",
    "def evaluate_recommendations(test_data, recommendations):\n",
    "    # Filter test_data to keep only the recommended movies\n",
    "    test_data_filtered = test_data[test_data['movieId'].isin(recommendations['movieId'])]\n",
    "\n",
    "    # If there's no intersection between recommended movies and test data, return None\n",
    "    if test_data_filtered.empty:\n",
    "        return None\n",
    "\n",
    "    # Reorder recommendations according to test_data_filtered\n",
    "    recommendations = recommendations.set_index('movieId').loc[test_data_filtered['movieId']].reset_index()\n",
    "\n",
    "    y_true = test_data_filtered['rating'].values\n",
    "    y_pred = recommendations['predicted_rating'].values\n",
    "\n",
    "    mae = mean_absolute_error(y_true, y_pred)\n",
    "    mse = mean_squared_error(y_true, y_pred)\n",
    "    rmse = np.sqrt(mse)\n",
    "\n",
    "    return {'mae': mae, 'mse': mse, 'rmse': rmse}\n",
    "\n",
    "# Set the number of recommendations\n",
    "n_recommendations = 5"
   ]
  },
  {
   "cell_type": "code",
   "execution_count": 7,
   "metadata": {},
   "outputs": [
    {
     "name": "stdout",
     "output_type": "stream",
     "text": [
      "Progress: 4.92%\n",
      "Progress: 9.84%\n",
      "Progress: 14.75%\n",
      "Progress: 19.67%\n",
      "Progress: 24.59%\n",
      "Progress: 29.51%\n",
      "Progress: 34.43%\n",
      "Progress: 39.34%\n",
      "Progress: 44.26%\n",
      "Progress: 49.18%\n",
      "Progress: 54.10%\n",
      "Progress: 59.02%\n",
      "Progress: 63.93%\n",
      "Progress: 68.85%\n",
      "Progress: 73.77%\n",
      "Progress: 78.69%\n",
      "Progress: 83.61%\n",
      "Progress: 88.52%\n",
      "Progress: 93.44%\n",
      "Progress: 98.36%\n"
     ]
    }
   ],
   "source": [
    "# Evaluate the three recommendation models\n",
    "metrics = {}  # Dictionary to store evaluation metrics for each user\n",
    "no_user_ids = len(ratings_test['userId'].unique())  # Total number of unique user IDs in test set\n",
    "itr_counter = 0  # Iteration counter\n",
    "for user_id in ratings_test['userId'].unique():  # Iterate over all unique user IDs in test set\n",
    "    itr_counter = itr_counter + 1\n",
    "    total_steps = no_user_ids\n",
    "    progress_percentage = (itr_counter + 1) / total_steps * 100\n",
    "    if (itr_counter + 1) % 30 == 0:  # Print progress update for every 30th user\n",
    "        print(f'Progress: {progress_percentage:.2f}%')\n",
    "    user_ratings_test = ratings_test[ratings_test['userId'] == user_id]  # Get test ratings for current user\n",
    "    \n",
    "    # Generate recommendations for current user using the three models\n",
    "    content_based_recommendations = content_based_recommender(user_id, cosine_sim_content_train, movies, ratings_train, n=n_recommendations)\n",
    "    collaborative_filtering_recommendations = collaborative_filtering_recommender(user_id, cosine_sim_collab_train, user_item_matrix_train, movies, n=n_recommendations)\n",
    "    hybrid_recommendations = hybrid_recommender(user_id, cosine_sim_content_train, cosine_sim_collab_train, user_item_matrix_train, movies, ratings_train, n=n_recommendations)\n",
    "\n",
    "    # Evaluate the quality of the recommendations using the test set ratings\n",
    "    metrics[user_id] = {\n",
    "        'content_based': evaluate_recommendations(user_ratings_test, content_based_recommendations),\n",
    "        'collaborative_filtering': evaluate_recommendations(user_ratings_test, collaborative_filtering_recommendations),\n",
    "        'hybrid': evaluate_recommendations(user_ratings_test, hybrid_recommendations)\n",
    "    }\n",
    "\n",
    "# Calculate the average performance metrics for each model\n",
    "avg_metrics = {}  # Dictionary to store average performance metrics for each model\n",
    "for model in ['content_based', 'collaborative_filtering', 'hybrid']:  # iterate over the three models\n",
    "    # Calculate the average MAE, MSE, and RMSE for the current model using only the users for which there are valid evaluation metrics\n",
    "    mae = np.mean([metrics[user_id][model]['mae'] for user_id in metrics if metrics[user_id][model] is not None])\n",
    "    mse = np.mean([metrics[user_id][model]['mse'] for user_id in metrics if metrics[user_id][model] is not None])\n",
    "    rmse = np.mean([metrics[user_id][model]['rmse'] for user_id in metrics if metrics[user_id][model] is not None])\n",
    "\n",
    "    # Store the average performance metrics for the current model in the avg_metrics dictionary\n",
    "    avg_metrics[model] = {'MAE': mae, 'MSE': mse, 'RMSE': rmse}\n"
   ]
  },
  {
   "attachments": {},
   "cell_type": "markdown",
   "metadata": {},
   "source": [
    "### Plotting the results"
   ]
  },
  {
   "cell_type": "code",
   "execution_count": 8,
   "metadata": {},
   "outputs": [
    {
     "data": {
      "image/png": "[encoded data removed]",
      "text/plain": [
       "<Figure size 800x600 with 2 Axes>"
      ]
     },
     "metadata": {},
     "output_type": "display_data"
    }
   ],
   "source": [
    "# Import necessary libraries for plotting\n",
    "import seaborn as sns\n",
    "import matplotlib.pyplot as plt\n",
    "import pandas as pd\n",
    "\n",
    "# Format metrics such that they can be visualized in a heatmap\n",
    "formatted_metrics = {}\n",
    "for model, model_metrics in avg_metrics.items():\n",
    "    formatted_model_name = ' '.join([word.capitalize() for word in model.split('_')]) + ' Recommender'\n",
    "    formatted_metrics[formatted_model_name] = model_metrics\n",
    "\n",
    "\n",
    "# Create dataframe\n",
    "df = pd.DataFrame(formatted_metrics, index=['MAE', 'MSE', 'RMSE'])\n",
    "\n",
    "# Plot the heatmap\n",
    "plt.figure(figsize=(8,6))\n",
    "sns.heatmap(df, cmap='YlGnBu', annot=True, fmt='.4g', cbar_kws={'label': 'Metric Value'})\n",
    "plt.title('Recommender System Performance')\n",
    "plt.xlabel('Recommender System')\n",
    "plt.ylabel('Metric')\n",
    "plt.show()"
   ]
  }
 ],
 "metadata": {
  "kernelspec": {
   "display_name": "Python 3",
   "language": "python",
   "name": "python3"
  },
  "language_info": {
   "codemirror_mode": {
    "name": "ipython",
    "version": 3
   },
   "file_extension": ".py",
   "mimetype": "text/x-python",
   "name": "python",
   "nbconvert_exporter": "python",
   "pygments_lexer": "ipython3",
   "version": "3.8.10"
  },
  "orig_nbformat": 4
 },
 "nbformat": 4,
 "nbformat_minor": 2
}
